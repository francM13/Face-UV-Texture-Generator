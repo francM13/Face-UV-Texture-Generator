{
 "cells": [
  {
   "cell_type": "markdown",
   "metadata": {},
   "source": [
    "## Test\n"
   ]
  },
  {
   "cell_type": "code",
   "execution_count": 1,
   "metadata": {},
   "outputs": [],
   "source": [
    "from FlameInterface import FlameInterface\n",
    "import numpy as np"
   ]
  },
  {
   "cell_type": "code",
   "execution_count": 2,
   "metadata": {},
   "outputs": [
    {
     "data": {
      "text/plain": [
       "0.4132889590445392"
      ]
     },
     "execution_count": 2,
     "metadata": {},
     "output_type": "execute_result"
    }
   ],
   "source": [
    "np.random.rand(1)[0]"
   ]
  },
  {
   "cell_type": "code",
   "execution_count": 4,
   "metadata": {},
   "outputs": [],
   "source": [
    "# Example usage:\n",
    "flame_interface = FlameInterface(port=8081)\n",
    "\n",
    "shape_params=np.random.rand(1,100)\n",
    "# shape_params=np.random.rand(1,100)\n",
    "pose_params = np.array([[1, 0, 1, np.random.rand(1)[0],0,0]])\n",
    "expression_params = np.random.rand(1, 50)\n",
    "\n",
    "vertices, faces, landmarks = flame_interface.getFlame(shape_params=shape_params,expression_params=expression_params)"
   ]
  },
  {
   "cell_type": "code",
   "execution_count": 5,
   "metadata": {},
   "outputs": [
    {
     "name": "stdout",
     "output_type": "stream",
     "text": [
      "(1, 5023, 3)\n",
      "(9976, 3)\n",
      "(1, 68, 3)\n"
     ]
    }
   ],
   "source": [
    "print(vertices.shape)\n",
    "print(faces.shape)\n",
    "print(landmarks.shape)"
   ]
  },
  {
   "cell_type": "markdown",
   "metadata": {},
   "source": [
    "## Render\n"
   ]
  },
  {
   "cell_type": "code",
   "execution_count": 6,
   "metadata": {},
   "outputs": [],
   "source": [
    "flame_interface.Render(vertices, faces, landmarks,False)"
   ]
  }
 ],
 "metadata": {
  "kernelspec": {
   "display_name": "texture-env",
   "language": "python",
   "name": "python3"
  },
  "language_info": {
   "codemirror_mode": {
    "name": "ipython",
    "version": 3
   },
   "file_extension": ".py",
   "mimetype": "text/x-python",
   "name": "python",
   "nbconvert_exporter": "python",
   "pygments_lexer": "ipython3",
   "version": "3.10.13"
  }
 },
 "nbformat": 4,
 "nbformat_minor": 2
}
