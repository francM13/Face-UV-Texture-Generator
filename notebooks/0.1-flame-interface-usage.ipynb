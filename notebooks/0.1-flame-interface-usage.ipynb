{
 "cells": [
  {
   "cell_type": "code",
   "execution_count": 1,
   "metadata": {},
   "outputs": [],
   "source": [
    "from src.models.flame_interface import flame_interface\n",
    "import numpy as np"
   ]
  },
  {
   "cell_type": "code",
   "execution_count": 2,
   "metadata": {},
   "outputs": [],
   "source": [
    "flame_interface = flame_interface(port=8081)\n",
    "\n",
    "shape_params=np.random.rand(1,100)\n",
    "pose_params = np.array([[1, 0, 1, np.random.rand(1)[0],0,0]])\n",
    "expression_params = np.random.rand(1, 50)\n",
    "\n",
    "Flame_vertices, Flame_faces, Flame_landmarks = flame_interface.getFlame(shape_params=shape_params,pose_params=pose_params,expression_params=expression_params)"
   ]
  },
  {
   "cell_type": "code",
   "execution_count": 3,
   "metadata": {},
   "outputs": [],
   "source": [
    "flame_interface.Render(Flame_vertices, Flame_faces, Flame_landmarks)"
   ]
  }
 ],
 "metadata": {
  "kernelspec": {
   "display_name": "texture-env",
   "language": "python",
   "name": "python3"
  },
  "language_info": {
   "codemirror_mode": {
    "name": "ipython",
    "version": 3
   },
   "file_extension": ".py",
   "mimetype": "text/x-python",
   "name": "python",
   "nbconvert_exporter": "python",
   "pygments_lexer": "ipython3",
   "version": "0.0.0"
  }
 },
 "nbformat": 4,
 "nbformat_minor": 2
}
