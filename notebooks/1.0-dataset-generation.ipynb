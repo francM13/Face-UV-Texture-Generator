{
 "cells": [
  {
   "cell_type": "code",
   "execution_count": 1,
   "metadata": {},
   "outputs": [],
   "source": [
    "path=\"D:\\Tesi Dataset\\\\\"\n",
    "json_path=path+'meta-info.json'  # Replace with the actual filename"
   ]
  },
  {
   "cell_type": "markdown",
   "metadata": {},
   "source": [
    "### Dataset Creation\n"
   ]
  },
  {
   "cell_type": "code",
   "execution_count": 2,
   "metadata": {},
   "outputs": [],
   "source": [
    "import os\n",
    "from src.data.resize_and_save_image import resize_and_save_image\n",
    "from src.data.dataset_generation_functions import iterate_file\n",
    "\n",
    "def generate_dataset(max_iter=None, Size=512, start_key=None, verbose=False):\n",
    "    \"\"\"\n",
    "    Generate dataset of images from FFHQ and UV datasets.\n",
    "\n",
    "    Args:\n",
    "        max_iter (int, optional): The maximum number of iterations. If less than 0,\n",
    "            it will be set to the total number of items in the JSON file. Defaults to None.\n",
    "        Size (int, optional): Size of the resized images. Defaults to 512x512.\n",
    "        start_key (str, optional): The key to start iterating from. Defaults to None.\n",
    "        verbose (bool, optional): If True, print information about each iteration. Defaults to False.\n",
    "    \"\"\"\n",
    "\n",
    "    # Iterate through JSON file\n",
    "    for key, index in iterate_file(json_path, max_iter=max_iter, start_key=start_key):\n",
    "        # Decrement iteration counter\n",
    "        max_iter -= 1\n",
    "\n",
    "        # Generate image paths\n",
    "        # UV folder name\n",
    "        UV_folder_name = key[:3]\n",
    "        # UV image path\n",
    "        UV_image_path = os.path.join(path, \"UV\", UV_folder_name, key + '.png')\n",
    "\n",
    "        # Face folder name, padded with zeros if less than 5 digits\n",
    "        if index==None:\n",
    "            continue\n",
    "        Face_folder_name = str(int(index) // 1000 * 1000).zfill(5)\n",
    "        # Face image path\n",
    "        Face_image_path = os.path.join(path, \"FFHQ\", Face_folder_name, index + '.png')\n",
    "\n",
    "        # Check if images exist and resize them\n",
    "        if os.path.exists(Face_image_path) and os.path.exists(UV_image_path):\n",
    "            # Resize Face image\n",
    "            resize_and_save_image(Face_image_path, path + str(Size) + \"_resized_Face\", key, new_width=Size,\n",
    "                                  new_height=Size, verbose=False)\n",
    "            # Resize UV image\n",
    "            resize_and_save_image(UV_image_path, path + str(Size) + \"_resized_UV\", key, new_width=Size,\n",
    "                                  new_height=Size, verbose=False)\n",
    "\n",
    "        # Print information if verbose flag is True\n",
    "        if verbose:\n",
    "            # Print ID and Index-in-FFHQ\n",
    "            print(f\"ID: {key}, Index-in-FFHQ: {index}\")\n",
    "\n",
    "        # Break the loop if iteration counter is 0\n",
    "        if max_iter == 0:\n",
    "            break"
   ]
  },
  {
   "cell_type": "code",
   "execution_count": 4,
   "metadata": {},
   "outputs": [
    {
     "name": "stderr",
     "output_type": "stream",
     "text": [
      "100%|██████████| 55/55 [00:11<00:00,  4.82pics/s]\n"
     ]
    }
   ],
   "source": [
    "generate_dataset(max_iter=55, Size=256,start_key=99)\n",
    "# generate_dataset(max_iter=26000, Size=512)"
   ]
  }
 ],
 "metadata": {
  "kernelspec": {
   "display_name": "texture-env",
   "language": "python",
   "name": "python3"
  },
  "language_info": {
   "codemirror_mode": {
    "name": "ipython",
    "version": 3
   },
   "file_extension": ".py",
   "mimetype": "text/x-python",
   "name": "python",
   "nbconvert_exporter": "python",
   "pygments_lexer": "ipython3",
   "version": "3.10.13"
  }
 },
 "nbformat": 4,
 "nbformat_minor": 2
}
