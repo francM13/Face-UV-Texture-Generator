{
 "cells": [
  {
   "cell_type": "code",
   "execution_count": 1,
   "metadata": {},
   "outputs": [
    {
     "name": "stdout",
     "output_type": "stream",
     "text": [
      "Total number of combinations: 20\n"
     ]
    }
   ],
   "source": [
    "from itertools import product\n",
    "\n",
    "ga_params={\n",
    "    \"images\": [\"62820.png\",\"20044.png\",\"02000.png\",\"02003.png\",\"02007.png\"],\n",
    "    \"num_generations\":[100,75,50],\n",
    "    \"num_parents_mating\":[4],\n",
    "    \"sol_per_pop\":[16],\n",
    "    \"parent_selection_type\":[\"sss\"],\n",
    "    \"crossover_type\":[\"single_point\"],\n",
    "    \"mutation_type\":[\"random\"],\n",
    "    \"mutation_percent_genes\":[10],\n",
    "\n",
    "    \"keep_parents\":[2],\n",
    "    \"keep_elitism\":[1],\n",
    "\n",
    "    \"gene_space\":[{'low': -2, 'high': 2}],\n",
    "    \"num_genes\":[156],\n",
    "}\n",
    "\n",
    "parameter_combinations = list(product(*ga_params.values()))\n",
    "\n",
    "number_of_combinations = len(parameter_combinations)\n",
    "print(\"Total number of combinations:\",number_of_combinations)"
   ]
  },
  {
   "cell_type": "markdown",
   "metadata": {},
   "source": [
    "## Hyperparameter Fine Tuning\n"
   ]
  },
  {
   "cell_type": "code",
   "execution_count": 2,
   "metadata": {},
   "outputs": [
    {
     "name": "stdout",
     "output_type": "stream",
     "text": [
      "Jupyter environment detected. Enabling Open3D WebVisualizer.\n",
      "[Open3D INFO] WebRTC GUI backend enabled.\n",
      "[Open3D INFO] WebRTCWindowSystem: HTTP handshake server disabled.\n",
      "Running 1/20\n"
     ]
    },
    {
     "name": "stderr",
     "output_type": "stream",
     "text": [
      "100%|██████████| 150/150 [06:46<00:00,  2.71s/it]\n"
     ]
    },
    {
     "name": "stdout",
     "output_type": "stream",
     "text": [
      "Fitness value of the best solution = [-0.01150863 -0.00127394]\n",
      "Running 2/20\n"
     ]
    },
    {
     "name": "stderr",
     "output_type": "stream",
     "text": [
      "100%|██████████| 100/100 [04:37<00:00,  2.78s/it]\n"
     ]
    },
    {
     "name": "stdout",
     "output_type": "stream",
     "text": [
      "Fitness value of the best solution = [-0.00771782 -0.00093032]\n",
      "Running 3/20\n"
     ]
    },
    {
     "name": "stderr",
     "output_type": "stream",
     "text": [
      "100%|██████████| 75/75 [03:26<00:00,  2.75s/it]\n"
     ]
    },
    {
     "name": "stdout",
     "output_type": "stream",
     "text": [
      "Fitness value of the best solution = [-0.01085933 -0.00138136]\n",
      "Running 4/20\n"
     ]
    },
    {
     "name": "stderr",
     "output_type": "stream",
     "text": [
      "100%|██████████| 50/50 [02:18<00:00,  2.77s/it]\n"
     ]
    },
    {
     "name": "stdout",
     "output_type": "stream",
     "text": [
      "Fitness value of the best solution = [-0.00758552 -0.00143808]\n",
      "Running 5/20\n"
     ]
    },
    {
     "name": "stderr",
     "output_type": "stream",
     "text": [
      "100%|██████████| 150/150 [07:17<00:00,  2.91s/it]\n"
     ]
    },
    {
     "name": "stdout",
     "output_type": "stream",
     "text": [
      "Fitness value of the best solution = [-0.00800664 -0.00157674]\n",
      "Running 6/20\n"
     ]
    },
    {
     "name": "stderr",
     "output_type": "stream",
     "text": [
      "100%|██████████| 100/100 [04:51<00:00,  2.91s/it]\n"
     ]
    },
    {
     "name": "stdout",
     "output_type": "stream",
     "text": [
      "Fitness value of the best solution = [-0.00750747 -0.00160099]\n",
      "Running 7/20\n"
     ]
    },
    {
     "name": "stderr",
     "output_type": "stream",
     "text": [
      "100%|██████████| 75/75 [03:33<00:00,  2.84s/it]\n"
     ]
    },
    {
     "name": "stdout",
     "output_type": "stream",
     "text": [
      "Fitness value of the best solution = [-0.01164523 -0.00211935]\n",
      "Running 8/20\n"
     ]
    },
    {
     "name": "stderr",
     "output_type": "stream",
     "text": [
      "100%|██████████| 50/50 [02:29<00:00,  3.00s/it]\n"
     ]
    },
    {
     "name": "stdout",
     "output_type": "stream",
     "text": [
      "Fitness value of the best solution = [-0.01531733 -0.00212367]\n",
      "Running 9/20\n"
     ]
    },
    {
     "name": "stderr",
     "output_type": "stream",
     "text": [
      "100%|██████████| 150/150 [07:06<00:00,  2.85s/it]\n"
     ]
    },
    {
     "name": "stdout",
     "output_type": "stream",
     "text": [
      "Fitness value of the best solution = [-0.00596092 -0.00103449]\n",
      "Running 10/20\n"
     ]
    },
    {
     "name": "stderr",
     "output_type": "stream",
     "text": [
      "100%|██████████| 100/100 [04:49<00:00,  2.89s/it]\n"
     ]
    },
    {
     "name": "stdout",
     "output_type": "stream",
     "text": [
      "Fitness value of the best solution = [-0.01127435 -0.001445  ]\n",
      "Running 11/20\n"
     ]
    },
    {
     "name": "stderr",
     "output_type": "stream",
     "text": [
      "100%|██████████| 75/75 [03:35<00:00,  2.87s/it]\n"
     ]
    },
    {
     "name": "stdout",
     "output_type": "stream",
     "text": [
      "Fitness value of the best solution = [-0.00646824 -0.00111204]\n",
      "Running 12/20\n"
     ]
    },
    {
     "name": "stderr",
     "output_type": "stream",
     "text": [
      "100%|██████████| 50/50 [02:29<00:00,  3.00s/it]\n"
     ]
    },
    {
     "name": "stdout",
     "output_type": "stream",
     "text": [
      "Fitness value of the best solution = [-0.01389169 -0.00148161]\n",
      "Running 13/20\n"
     ]
    },
    {
     "name": "stderr",
     "output_type": "stream",
     "text": [
      "100%|██████████| 150/150 [06:59<00:00,  2.80s/it]\n"
     ]
    },
    {
     "name": "stdout",
     "output_type": "stream",
     "text": [
      "Fitness value of the best solution = [-0.01008244 -0.00138305]\n",
      "Running 14/20\n"
     ]
    },
    {
     "name": "stderr",
     "output_type": "stream",
     "text": [
      "100%|██████████| 100/100 [04:37<00:00,  2.77s/it]\n"
     ]
    },
    {
     "name": "stdout",
     "output_type": "stream",
     "text": [
      "Fitness value of the best solution = [-0.00958922 -0.00113873]\n",
      "Running 15/20\n"
     ]
    },
    {
     "name": "stderr",
     "output_type": "stream",
     "text": [
      "100%|██████████| 75/75 [03:27<00:00,  2.77s/it]\n"
     ]
    },
    {
     "name": "stdout",
     "output_type": "stream",
     "text": [
      "Fitness value of the best solution = [-0.01028522 -0.00119348]\n",
      "Running 16/20\n"
     ]
    },
    {
     "name": "stderr",
     "output_type": "stream",
     "text": [
      "100%|██████████| 50/50 [02:25<00:00,  2.90s/it]\n"
     ]
    },
    {
     "name": "stdout",
     "output_type": "stream",
     "text": [
      "Fitness value of the best solution = [-0.00652054 -0.00151131]\n",
      "Running 17/20\n"
     ]
    },
    {
     "name": "stderr",
     "output_type": "stream",
     "text": [
      "100%|██████████| 150/150 [06:49<00:00,  2.73s/it]\n"
     ]
    },
    {
     "name": "stdout",
     "output_type": "stream",
     "text": [
      "Fitness value of the best solution = [-0.00703881 -0.00117824]\n",
      "Running 18/20\n"
     ]
    },
    {
     "name": "stderr",
     "output_type": "stream",
     "text": [
      "100%|██████████| 100/100 [04:34<00:00,  2.74s/it]\n"
     ]
    },
    {
     "name": "stdout",
     "output_type": "stream",
     "text": [
      "Fitness value of the best solution = [-0.00816687 -0.00141585]\n",
      "Running 19/20\n"
     ]
    },
    {
     "name": "stderr",
     "output_type": "stream",
     "text": [
      "100%|██████████| 75/75 [03:26<00:00,  2.76s/it]\n"
     ]
    },
    {
     "name": "stdout",
     "output_type": "stream",
     "text": [
      "Fitness value of the best solution = [-0.00942912 -0.00159964]\n",
      "Running 20/20\n"
     ]
    },
    {
     "name": "stderr",
     "output_type": "stream",
     "text": [
      "100%|██████████| 50/50 [02:20<00:00,  2.80s/it]\n"
     ]
    },
    {
     "name": "stdout",
     "output_type": "stream",
     "text": [
      "Fitness value of the best solution = [-0.01159564 -0.00152818]\n"
     ]
    }
   ],
   "source": [
    "import time\n",
    "from src.models.mesh_GA_wrapper import mesh_GA_wrapper\n",
    "\n",
    "i=0\n",
    "output_file=\"gridsearch.txt\"\n",
    "with open(output_file, \"w\") as f:  # Open the file here for actual writing\n",
    "    f.write(\"Hyperparameters, Fitness Score\\n\")\n",
    "    \n",
    "for parameter_set in parameter_combinations:\n",
    "    i+=1\n",
    "    current_params = dict(zip(ga_params.keys(), parameter_set))  \n",
    "\n",
    "    print(f\"Running {i}/{number_of_combinations}\")\n",
    "    \n",
    "    ga_instance = mesh_GA_wrapper()\n",
    "\n",
    "    ga_instance.setRefereneImage(image = current_params[\"images\"], visualize=False)\n",
    "\n",
    "    filtered_params = {key: value for key, value in current_params.items() if key not in ['images']}\n",
    "    ga_instance.setGeneticAlgorithm(filtered_params)\n",
    "\n",
    "    # Run GA\n",
    "    start_time = time.time()\n",
    "    fitness_score=ga_instance.run()\n",
    "    execution_time = time.time() - start_time\n",
    "\n",
    "    # # Save results to file\n",
    "    with open(output_file, \"a\") as f:  # Open in append mode for each line\n",
    "        f.write(f\"({execution_time}){current_params},{fitness_score}\\n\")"
   ]
  }
 ],
 "metadata": {
  "kernelspec": {
   "display_name": "texture-env",
   "language": "python",
   "name": "python3"
  },
  "language_info": {
   "codemirror_mode": {
    "name": "ipython",
    "version": 3
   },
   "file_extension": ".py",
   "mimetype": "text/x-python",
   "name": "python",
   "nbconvert_exporter": "python",
   "pygments_lexer": "ipython3",
   "version": "3.10.13"
  }
 },
 "nbformat": 4,
 "nbformat_minor": 2
}
